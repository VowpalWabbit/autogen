{
 "cells": [
  {
   "cell_type": "code",
   "execution_count": 8,
   "metadata": {},
   "outputs": [],
   "source": [
    "#  ! pip install learn-to-pick"
   ]
  },
  {
   "cell_type": "code",
   "execution_count": 9,
   "metadata": {},
   "outputs": [],
   "source": [
    "# To capture the new agent during dev\n",
    "import sys\n",
    "\n",
    "sys.path.append(\"../\")\n",
    "\n",
    "from autogen import UserProxyAgent\n",
    "from autogen import AssistantAgent, UserProxyAgent, config_list_from_json\n",
    "import learn_to_pick\n",
    "import autogen\n",
    "\n",
    "autogen.ChatCompletion.start_logging()\n",
    "\n",
    "config_list = config_list_from_json(env_or_file=\"OAI_CONFIG_LIST\", file_location=\"..\")\n",
    "llm_config = {\n",
    "    \"request_timeout\": 60,\n",
    "    \"config_list\": config_list,\n",
    "    \"use_cache\": True,  # Use False to explore LLM non-determinism.\n",
    "}"
   ]
  },
  {
   "cell_type": "code",
   "execution_count": 10,
   "metadata": {},
   "outputs": [
    {
     "name": "stderr",
     "output_type": "stream",
     "text": [
      "2023-11-02 21:11:47,288 - learn_to_pick.base - WARNING - No selection scorer provided, which means that no reinforcement learning will be done in the RL chain unless update_with_delayed_score is called.\n"
     ]
    }
   ],
   "source": [
    "from autogen.agentchat.contrib.learn_to_pick_agent import LearnToPickAgent\n",
    "\n",
    "ltp_config = {\n",
    "    \"selection_scorer\": None,\n",
    "}\n",
    "\n",
    "ltp_agent = LearnToPickAgent(\n",
    "    llm_config=llm_config,\n",
    "    learn_to_pick_config=ltp_config,)"
   ]
  },
  {
   "cell_type": "code",
   "execution_count": 11,
   "metadata": {},
   "outputs": [],
   "source": [
    "user = UserProxyAgent(\n",
    "    name=\"user\",\n",
    "    human_input_mode=\"NEVER\",\n",
    "    is_termination_msg=lambda x: True if \"TERMINATE\" in x.get(\"content\") else False,\n",
    "    max_consecutive_auto_reply=0,\n",
    ")"
   ]
  },
  {
   "cell_type": "code",
   "execution_count": 12,
   "metadata": {},
   "outputs": [
    {
     "name": "stdout",
     "output_type": "stream",
     "text": [
      "\u001b[33muser\u001b[0m (to learntopickagent):\n",
      "\n",
      "{'meal': ['Beef', 'Chicken', 'Veggie'], 'user': ['Meat eater', 'loves beef']}\n",
      "\n",
      "--------------------------------------------------------------------------------\n",
      "\u001b[33mlearntopickagent\u001b[0m (to user):\n",
      "\n",
      "{'picked': {'meal': 'Chicken'}, 'picked_metadata': <learn_to_pick.pick_best.PickBestEvent object at 0x7f2f7c4f1280>}\n",
      "\n",
      "--------------------------------------------------------------------------------\n",
      "{'meal': ['Beef', 'Chicken', 'Veggie'], 'user': ['Meat eater', 'loves beef']}\n",
      "\n",
      "--------------------------------------------------------------------------------\n",
      "\u001b[33mlearntopickagent\u001b[0m (to user):\n",
      "\n",
      "{'picked': {'meal': 'Chicken'}, 'picked_metadata': <learn_to_pick.pick_best.PickBestEvent object at 0x7f2f7c4f1280>}\n",
      "\n",
      "--------------------------------------------------------------------------------\n"
     ]
    }
   ],
   "source": [
    "# experimenting with different ways to shape the input\n",
    "# all three below currently accepted\n",
    "\n",
    "msg = {'content': {\"to_select_from\": {\"name\": \"meal\", \"options\": [\"Beef\", \"Chicken\", \"Veggie\"]}, \"based_on\": {\"name\": \"user\", \"options\": [\"Meat eater\", \"loves beef\"]}}}\n",
    "msg = {'content': {\"to_select_from\": [\"Beef\", \"Chicken\", \"Veggie\"], \"based_on\": [\"Meat eater\", \"loves beef\"]}}\n",
    "msg = {'content': {\"meal\": LearnToPickAgent.ToSelectFrom([\"Beef\", \"Chicken\", \"Veggie\"]), \"user\": LearnToPickAgent.BasedOn([\"Meat eater\", \"loves beef\"])}}\n",
    "\n",
    "user.initiate_chat(ltp_agent, message=msg)"
   ]
  },
  {
   "cell_type": "code",
   "execution_count": 13,
   "metadata": {},
   "outputs": [],
   "source": [
    "ltp_response = list(user.chat_messages.values())[0][1][\"content\"]"
   ]
  },
  {
   "cell_type": "code",
   "execution_count": 14,
   "metadata": {},
   "outputs": [],
   "source": [
    "# eval ltp_response and define score\n",
    "dummy_score = 1.0\n",
    "ltp_agent.learn_from_user_feedback(dummy_score, ltp_response)"
   ]
  }
 ],
 "metadata": {
  "kernelspec": {
   "display_name": ".venv",
   "language": "python",
   "name": "python3"
  },
  "language_info": {
   "codemirror_mode": {
    "name": "ipython",
    "version": 3
   },
   "file_extension": ".py",
   "mimetype": "text/x-python",
   "name": "python",
   "nbconvert_exporter": "python",
   "pygments_lexer": "ipython3",
   "version": "3.9.5"
  }
 },
 "nbformat": 4,
 "nbformat_minor": 2
}
